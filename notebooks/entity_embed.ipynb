{
 "cells": [
  {
   "cell_type": "code",
   "execution_count": null,
   "metadata": {},
   "outputs": [],
   "source": [
    "import numpy as np\n",
    "import pandas as pd\n",
    "\n",
    "#random seeds for stochastic parts of neural network \n",
    "np.random.seed(10)\n",
    "from tensorflow import set_random_seed\n",
    "set_random_seed(15)\n",
    "\n",
    "from keras.models import Model\n",
    "from keras.layers import Input, Dense, Concatenate, Reshape, Dropout\n",
    "from keras.layers.embeddings import Embedding\n",
    "\n",
    "from sklearn.model_selection import StratifiedKFold\n"
   ]
  },
  {
   "cell_type": "code",
   "execution_count": null,
   "metadata": {},
   "outputs": [],
   "source": [
    "df_train = pd.read_csv('train.csv')\n",
    "df_test = pd.read_csv('test.csv (2)')\n",
    "df_train.shape"
   ]
  },
  {
   "cell_type": "code",
   "execution_count": null,
   "metadata": {},
   "outputs": [],
   "source": [
    "X_train, y_train = df_train.iloc[:,2:], df_train.target\n",
    "X_test = df_test.iloc[:,1:]"
   ]
  },
  {
   "cell_type": "code",
   "execution_count": null,
   "metadata": {},
   "outputs": [],
   "source": [
    "cols_use = [c for c in X_train.columns if (not c.startswith('ps_calc_'))]\n",
    "len(cols_use)"
   ]
  },
  {
   "cell_type": "code",
   "execution_count": null,
   "metadata": {},
   "outputs": [],
   "source": [
    "X_train = X_train[cols_use]\n",
    "X_test = X_test[cols_use]"
   ]
  },
  {
   "cell_type": "code",
   "execution_count": null,
   "metadata": {},
   "outputs": [],
   "source": [
    "col_vals_dict = {c: list(X_train[c].unique()) for c in X_train.columns if c.endswith('_cat')}"
   ]
  },
  {
   "cell_type": "code",
   "execution_count": null,
   "metadata": {},
   "outputs": [],
   "source": [
    "col_vals_dict"
   ]
  },
  {
   "cell_type": "code",
   "execution_count": null,
   "metadata": {},
   "outputs": [],
   "source": [
    "embed_cols = []\n",
    "for c in col_vals_dict:\n",
    "    if len(col_vals_dict[c])>2:\n",
    "        embed_cols.append(c)\n",
    "        print(c + ': %d values' % len(col_vals_dict[c])) #look at value counts to know the embedding dimensions\n"
   ]
  },
  {
   "cell_type": "code",
   "execution_count": null,
   "metadata": {},
   "outputs": [],
   "source": [
    "def build_embedding_network():\n",
    "    \n",
    "    inputs = []\n",
    "    embeddings = []\n",
    "    \n",
    "    input_ps_ind_02_cat = Input(shape=(1,))\n",
    "    embedding = Embedding(5, 3, input_length=1)(input_ps_ind_02_cat)\n",
    "    embedding = Reshape(target_shape=(3,))(embedding)\n",
    "    inputs.append(input_ps_ind_02_cat)\n",
    "    embeddings.append(embedding)\n",
    "    \n",
    "    input_ps_ind_04_cat = Input(shape=(1,))\n",
    "    embedding = Embedding(3, 2, input_length=1)(input_ps_ind_04_cat)\n",
    "    embedding = Reshape(target_shape=(2,))(embedding)\n",
    "    inputs.append(input_ps_ind_04_cat)\n",
    "    embeddings.append(embedding)\n",
    "    \n",
    "    input_ps_ind_05_cat = Input(shape=(1,))\n",
    "    embedding = Embedding(8, 5, input_length=1)(input_ps_ind_05_cat)\n",
    "    embedding = Reshape(target_shape=(5,))(embedding)\n",
    "    inputs.append(input_ps_ind_05_cat)\n",
    "    embeddings.append(embedding)\n",
    "    \n",
    "    input_ps_car_01_cat = Input(shape=(1,))\n",
    "    embedding = Embedding(13, 7, input_length=1)(input_ps_car_01_cat)\n",
    "    embedding = Reshape(target_shape=(7,))(embedding)\n",
    "    inputs.append(input_ps_car_01_cat)\n",
    "    embeddings.append(embedding)\n",
    "    \n",
    "    input_ps_car_02_cat = Input(shape=(1,))\n",
    "    embedding = Embedding(3, 2, input_length=1)(input_ps_car_02_cat)\n",
    "    embedding = Reshape(target_shape=(2,))(embedding)\n",
    "    inputs.append(input_ps_car_02_cat)\n",
    "    embeddings.append(embedding)\n",
    "    \n",
    "    input_ps_car_03_cat = Input(shape=(1,))\n",
    "    embedding = Embedding(3, 2, input_length=1)(input_ps_car_03_cat)\n",
    "    embedding = Reshape(target_shape=(2,))(embedding)\n",
    "    inputs.append(input_ps_car_03_cat)\n",
    "    embeddings.append(embedding)\n",
    "    \n",
    "    input_ps_car_04_cat = Input(shape=(1,))\n",
    "    embedding = Embedding(10, 5, input_length=1)(input_ps_car_04_cat)\n",
    "    embedding = Reshape(target_shape=(5,))(embedding)\n",
    "    inputs.append(input_ps_car_04_cat)\n",
    "    embeddings.append(embedding)\n",
    "    \n",
    "    input_ps_car_05_cat = Input(shape=(1,))\n",
    "    embedding = Embedding(3, 2, input_length=1)(input_ps_car_05_cat)\n",
    "    embedding = Reshape(target_shape=(2,))(embedding)\n",
    "    inputs.append(input_ps_car_05_cat)\n",
    "    embeddings.append(embedding)\n",
    "    \n",
    "    input_ps_car_06_cat = Input(shape=(1,))\n",
    "    embedding = Embedding(18, 8, input_length=1)(input_ps_car_06_cat)\n",
    "    embedding = Reshape(target_shape=(8,))(embedding)\n",
    "    inputs.append(input_ps_car_06_cat)\n",
    "    embeddings.append(embedding)\n",
    "    \n",
    "    input_ps_car_07_cat = Input(shape=(1,))\n",
    "    embedding = Embedding(3, 2, input_length=1)(input_ps_car_07_cat)\n",
    "    embedding = Reshape(target_shape=(2,))(embedding)\n",
    "    inputs.append(input_ps_car_07_cat)\n",
    "    embeddings.append(embedding)\n",
    "    \n",
    "    input_ps_car_09_cat = Input(shape=(1,))\n",
    "    embedding = Embedding(6, 3, input_length=1)(input_ps_car_09_cat)\n",
    "    embedding = Reshape(target_shape=(3,))(embedding)\n",
    "    inputs.append(input_ps_car_09_cat)\n",
    "    embeddings.append(embedding)\n",
    "    \n",
    "    input_ps_car_10_cat = Input(shape=(1,))\n",
    "    embedding = Embedding(3, 2, input_length=1)(input_ps_car_10_cat)\n",
    "    embedding = Reshape(target_shape=(2,))(embedding)\n",
    "    inputs.append(input_ps_car_10_cat)\n",
    "    embeddings.append(embedding)\n",
    "    \n",
    "    input_ps_car_11_cat = Input(shape=(1,))\n",
    "    embedding = Embedding(104, 10, input_length=1)(input_ps_car_11_cat)\n",
    "    embedding = Reshape(target_shape=(10,))(embedding)\n",
    "    inputs.append(input_ps_car_11_cat)\n",
    "    embeddings.append(embedding)\n",
    "    \n",
    "    input_numeric = Input(shape=(24,))\n",
    "    embedding_numeric = Dense(16)(input_numeric) \n",
    "    inputs.append(input_numeric)\n",
    "    embeddings.append(embedding_numeric)\n",
    "\n",
    "    x = Concatenate()(embeddings)\n",
    "    x = Dense(80, activation='relu')(x)\n",
    "    x = Dropout(.35)(x)\n",
    "    x = Dense(20, activation='relu')(x)\n",
    "    x = Dropout(.15)(x)\n",
    "    x = Dense(10, activation='relu')(x)\n",
    "    x = Dropout(.15)(x)\n",
    "    output = Dense(1, activation='sigmoid')(x)\n",
    "    \n",
    "    model = Model(inputs, output)\n",
    "\n",
    "    model.compile(loss='binary_crossentropy', optimizer='adam')\n",
    "    \n",
    "    return model"
   ]
  },
  {
   "cell_type": "code",
   "execution_count": null,
   "metadata": {},
   "outputs": [],
   "source": [
    "def preproc(X_train, X_val, X_test):\n",
    "\n",
    "    input_list_train = []\n",
    "    input_list_val = []\n",
    "    input_list_test = []\n",
    "    \n",
    "    #the cols to be embedded: rescaling to range [0, # values)\n",
    "    for c in embed_cols:\n",
    "        raw_vals = np.unique(X_train[c])\n",
    "        val_map = {}\n",
    "        for i in range(len(raw_vals)):\n",
    "            val_map[raw_vals[i]] = i       \n",
    "        input_list_train.append(X_train[c].map(val_map).values)\n",
    "        input_list_val.append(X_val[c].map(val_map).fillna(0).values)\n",
    "        input_list_test.append(X_test[c].map(val_map).fillna(0).values)\n",
    "     \n",
    "    #the rest of the columns\n",
    "    other_cols = [c for c in X_train.columns if (not c in embed_cols)]\n",
    "    input_list_train.append(X_train[other_cols].values)\n",
    "    input_list_val.append(X_val[other_cols].values)\n",
    "    input_list_test.append(X_test[other_cols].values)\n",
    "    \n",
    "    return input_list_train, input_list_val, input_list_test"
   ]
  },
  {
   "cell_type": "code",
   "execution_count": null,
   "metadata": {},
   "outputs": [],
   "source": [
    "p,q,r = preproc(X_train, X_train, X_test)"
   ]
  },
  {
   "cell_type": "code",
   "execution_count": null,
   "metadata": {},
   "outputs": [],
   "source": [
    "len(p[0])\n",
    "X_train.shape"
   ]
  },
  {
   "cell_type": "code",
   "execution_count": null,
   "metadata": {},
   "outputs": [],
   "source": [
    "def ginic(actual, pred):\n",
    "    n = len(actual)\n",
    "    a_s = actual[np.argsort(pred)]\n",
    "    a_c = a_s.cumsum()\n",
    "    giniSum = a_c.sum() / a_c[-1] - (n + 1) / 2.0\n",
    "    return giniSum / n\n",
    " \n",
    "def gini_normalizedc(a, p):\n",
    "    return ginic(a, p) / ginic(a, a)"
   ]
  },
  {
   "cell_type": "code",
   "execution_count": null,
   "metadata": {},
   "outputs": [],
   "source": [
    "K = 8\n",
    "runs_per_fold = 3\n",
    "n_epochs = 15\n",
    "\n",
    "cv_ginis = []\n",
    "full_val_preds = np.zeros(np.shape(X_train)[0])\n",
    "y_preds = np.zeros((np.shape(X_test)[0],K))\n",
    "\n",
    "kfold = StratifiedKFold(n_splits = K, \n",
    "                            random_state = 231, \n",
    "                            shuffle = False)    \n",
    "\n",
    "for i, (f_ind, outf_ind) in enumerate(kfold.split(X_train, y_train)):\n",
    "    \n",
    "\n",
    "    \n",
    "    X_train_f, X_val_f = X_train.loc[f_ind].copy(), X_train.loc[outf_ind].copy()\n",
    "    y_train_f, y_val_f = y_train[f_ind], y_train[outf_ind]\n",
    "    \n",
    "    X_test_f = X_test.copy()\n",
    "    \n",
    "    #upsampling adapted from kernel: \n",
    "    #https://www.kaggle.com/ogrellier/xgb-classifier-upsampling-lb-0-283\n",
    "    pos = (pd.Series(y_train_f == 1))\n",
    "    \n",
    "    # Add positive examples\n",
    "    X_train_f = pd.concat([X_train_f, X_train_f.loc[pos]], axis=0)\n",
    "    y_train_f = pd.concat([y_train_f, y_train_f.loc[pos]], axis=0)\n",
    "    \n",
    "    # Shuffle data\n",
    "    idx = np.arange(len(X_train_f))\n",
    "    np.random.shuffle(idx)\n",
    "    X_train_f = X_train_f.iloc[idx]\n",
    "    y_train_f = y_train_f.iloc[idx]\n",
    "    \n",
    "    #preprocessing\n",
    "    proc_X_train_f, proc_X_val_f, proc_X_test_f = preproc(X_train_f, X_val_f, X_test_f)\n",
    "    break\n",
    "#     #track oof prediction for cv scores\n",
    "#     val_preds = 0\n",
    "    \n",
    "#     for j in range(runs_per_fold):\n",
    "    \n",
    "#         NN = build_embedding_network()\n",
    "        \n",
    "#         NN.fit(proc_X_train_f, y_train_f.values, epochs=n_epochs, batch_size=4096, verbose=0)\n",
    "   \n",
    "#         val_preds += NN.predict(proc_X_val_f)[:,0] / runs_per_fold\n",
    "#         y_preds[:,i] += NN.predict(proc_X_test_f)[:,0] / runs_per_fold\n",
    "        \n",
    "#     full_val_preds[outf_ind] += val_preds\n",
    "        \n",
    "#     cv_gini = gini_normalizedc(y_val_f.values, val_preds)\n",
    "#     cv_ginis.append(cv_gini)\n",
    "#     print ('\\nFold %i prediction cv gini: %.5f\\n' %(i,cv_gini))\n",
    "    \n",
    "# print('Mean out of fold gini: %.5f' % np.mean(cv_ginis))\n",
    "# print('Full validation gini: %.5f' % gini_normalizedc(y_train.values, full_val_preds))\n"
   ]
  },
  {
   "cell_type": "code",
   "execution_count": null,
   "metadata": {},
   "outputs": [],
   "source": [
    "from sklearn.model_selection import KFold\n",
    "kfold_ = KFold(8, True, 1)\n",
    "# enumerate splits\n",
    "for (train, test) in kfold_.split((X_train, y_train)):\n",
    "    print(train)\n",
    "    break"
   ]
  },
  {
   "cell_type": "code",
   "execution_count": null,
   "metadata": {},
   "outputs": [],
   "source": [
    "(proc_X_train_f[-1][0])"
   ]
  },
  {
   "cell_type": "code",
   "execution_count": null,
   "metadata": {},
   "outputs": [],
   "source": [
    "X_train_f.head()"
   ]
  },
  {
   "cell_type": "code",
   "execution_count": null,
   "metadata": {},
   "outputs": [],
   "source": [
    "kfold.split(X_train, y_train)"
   ]
  },
  {
   "cell_type": "code",
   "execution_count": null,
   "metadata": {},
   "outputs": [],
   "source": [
    "X_train"
   ]
  },
  {
   "cell_type": "code",
   "execution_count": null,
   "metadata": {},
   "outputs": [],
   "source": [
    "y_train"
   ]
  },
  {
   "cell_type": "code",
   "execution_count": null,
   "metadata": {},
   "outputs": [],
   "source": [
    "for i, (f_ind, outf_ind) in enumerate(kfold.split(X_train, y_train)):\n",
    "    print(len(f_ind))\n",
    "    break"
   ]
  },
  {
   "cell_type": "code",
   "execution_count": null,
   "metadata": {},
   "outputs": [],
   "source": [
    "X_train.shape"
   ]
  },
  {
   "cell_type": "code",
   "execution_count": null,
   "metadata": {},
   "outputs": [],
   "source": []
  }
 ],
 "metadata": {
  "kernelspec": {
   "display_name": "Python 3",
   "language": "python",
   "name": "python3"
  },
  "language_info": {
   "codemirror_mode": {
    "name": "ipython",
    "version": 3
   },
   "file_extension": ".py",
   "mimetype": "text/x-python",
   "name": "python",
   "nbconvert_exporter": "python",
   "pygments_lexer": "ipython3",
   "version": "3.6.7"
  }
 },
 "nbformat": 4,
 "nbformat_minor": 2
}
