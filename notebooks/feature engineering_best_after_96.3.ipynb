{
 "cells": [
  {
   "cell_type": "code",
   "execution_count": 1,
   "metadata": {
    "ExecuteTime": {
     "end_time": "2019-05-04T09:45:05.754084Z",
     "start_time": "2019-05-04T09:45:05.749818Z"
    }
   },
   "outputs": [
    {
     "data": {
      "text/plain": [
       "'\\nTODO:\\n1. add previous n_bookings as a feature\\n2. add number rooms booked previously as average\\n'"
      ]
     },
     "execution_count": 1,
     "metadata": {},
     "output_type": "execute_result"
    }
   ],
   "source": [
    "\"\"\"\n",
    "TODO:\n",
    "1. add previous n_bookings as a feature\n",
    "2. add number rooms booked previously as average\n",
    "\"\"\""
   ]
  },
  {
   "cell_type": "code",
   "execution_count": 2,
   "metadata": {
    "ExecuteTime": {
     "end_time": "2019-05-04T09:28:09.339988Z",
     "start_time": "2019-05-04T09:28:09.336094Z"
    }
   },
   "outputs": [],
   "source": [
    "import pandas as pd\n",
    "import lightgbm\n",
    "import category_encoders as ce\n",
    "from sklearn.preprocessing import CategoricalEncoder,OrdinalEncoder\n",
    "from sklearn.ensemble import RandomForestRegressor\n",
    "from sklearn.preprocessing import StandardScaler\n",
    "from bayes_opt import BayesianOptimization\n",
    "from sklearn.metrics import mean_squared_error\n",
    "from sklearn.model_selection import train_test_split\n",
    "import numpy as np\n",
    "import datetime"
   ]
  },
  {
   "cell_type": "code",
   "execution_count": 3,
   "metadata": {
    "ExecuteTime": {
     "end_time": "2019-05-04T08:46:21.991031Z",
     "start_time": "2019-05-04T08:46:17.974665Z"
    }
   },
   "outputs": [],
   "source": [
    "train = pd.read_csv(\"train_5CLrC8b/train.csv\")\n",
    "test = pd.read_csv(\"test.csv\")\n",
    "sample_submission = pd.read_csv(\"sample_submission.csv\")"
   ]
  },
  {
   "cell_type": "code",
   "execution_count": 4,
   "metadata": {
    "ExecuteTime": {
     "end_time": "2019-05-04T08:46:35.702725Z",
     "start_time": "2019-05-04T08:46:35.537531Z"
    }
   },
   "outputs": [
    {
     "name": "stderr",
     "output_type": "stream",
     "text": [
      "/home/prashant/miniconda2/envs/p3/lib/python3.6/site-packages/ipykernel_launcher.py:1: FutureWarning: Sorting because non-concatenation axis is not aligned. A future version\n",
      "of pandas will change to not sort by default.\n",
      "\n",
      "To accept the future behavior, pass 'sort=False'.\n",
      "\n",
      "To retain the current behavior and silence the warning, pass 'sort=True'.\n",
      "\n",
      "  \"\"\"Entry point for launching an IPython kernel.\n"
     ]
    }
   ],
   "source": [
    "concated = pd.concat([train,test],ignore_index=True)"
   ]
  },
  {
   "cell_type": "code",
   "execution_count": 5,
   "metadata": {
    "ExecuteTime": {
     "end_time": "2019-05-04T08:50:12.132589Z",
     "start_time": "2019-05-04T08:47:05.159645Z"
    }
   },
   "outputs": [],
   "source": [
    "concated['booking_date'] = pd.to_datetime(concated['booking_date'],dayfirst=True)\n",
    "concated['checkin_date'] = pd.to_datetime(concated['checkin_date'],dayfirst=True)\n",
    "concated['checkout_date'] = pd.to_datetime(concated['checkout_date'],dayfirst=True)"
   ]
  },
  {
   "cell_type": "code",
   "execution_count": 6,
   "metadata": {
    "ExecuteTime": {
     "end_time": "2019-05-04T08:50:28.167115Z",
     "start_time": "2019-05-04T08:50:13.164143Z"
    }
   },
   "outputs": [],
   "source": [
    "concated['booking_month'] = concated['booking_date'].apply(lambda x:x.month)\n",
    "concated['booking_year'] = concated['booking_date'].apply(lambda x:x.year)\n",
    "concated['booking_day'] = concated['booking_date'].apply(lambda x:x.day)\n",
    "\n",
    "concated['checkin_month'] = concated['checkin_date'].apply(lambda x:x.month)\n",
    "concated['checkin_year'] = concated['checkin_date'].apply(lambda x:x.year)\n",
    "concated['checkin_day'] = concated['checkin_date'].apply(lambda x:x.day)\n",
    "\n",
    "concated['checkout_month'] = concated['checkout_date'].apply(lambda x:x.month)\n",
    "concated['checkout_year'] = concated['checkout_date'].apply(lambda x:x.year)\n",
    "concated['checkout_day'] = concated['checkout_date'].apply(lambda x:x.day)"
   ]
  },
  {
   "cell_type": "code",
   "execution_count": 7,
   "metadata": {
    "ExecuteTime": {
     "end_time": "2019-05-04T09:23:04.390431Z",
     "start_time": "2019-05-04T09:22:59.554059Z"
    }
   },
   "outputs": [],
   "source": [
    "concated['booking_dayofweek'] = concated['booking_date'].apply(lambda x:x.dayofweek)\n",
    "\n",
    "concated['checkin_dayofweek'] = concated['checkin_date'].apply(lambda x:x.dayofweek)\n",
    "\n",
    "concated['checkout_dayofweek'] = concated['checkout_date'].apply(lambda x:x.dayofweek)"
   ]
  },
  {
   "cell_type": "code",
   "execution_count": 8,
   "metadata": {
    "ExecuteTime": {
     "end_time": "2019-05-04T08:51:15.926111Z",
     "start_time": "2019-05-04T08:51:14.650671Z"
    }
   },
   "outputs": [],
   "source": [
    "concated['season_holidayed_code_is_na'] = concated.season_holidayed_code.apply(\n",
    "    lambda x: 1 if pd.isna(x) else 0)\n",
    "concated['state_code_residence_is_na'] = concated.state_code_residence.apply(\n",
    "    lambda x: 1 if pd.isna(x) else 0)\n",
    "concated['season_holidayed_code'] = concated.season_holidayed_code.apply(\n",
    "    lambda x: 0 if pd.isna(x) else x)\n",
    "concated['state_code_residence'] = concated.state_code_residence.apply(\n",
    "    lambda x: 0 if pd.isna(x) else x)"
   ]
  },
  {
   "cell_type": "code",
   "execution_count": 9,
   "metadata": {
    "ExecuteTime": {
     "end_time": "2019-05-04T09:00:05.574656Z",
     "start_time": "2019-05-04T08:59:39.267877Z"
    }
   },
   "outputs": [],
   "source": [
    "concated['actual_days_booked'] = concated.apply(\n",
    "    lambda x: (x['checkout_date'] - x['checkin_date']).days, axis=1)"
   ]
  },
  {
   "cell_type": "code",
   "execution_count": 10,
   "metadata": {
    "ExecuteTime": {
     "end_time": "2019-05-04T09:11:58.692239Z",
     "start_time": "2019-05-04T09:11:43.742527Z"
    }
   },
   "outputs": [],
   "source": [
    "concated['n_rooms_booked'] = concated.apply(\n",
    "    lambda x: x['roomnights'] / x['actual_days_booked'], axis=1)"
   ]
  },
  {
   "cell_type": "code",
   "execution_count": 11,
   "metadata": {
    "ExecuteTime": {
     "end_time": "2019-05-04T09:19:00.077022Z",
     "start_time": "2019-05-04T09:18:37.929116Z"
    }
   },
   "outputs": [],
   "source": [
    "concated['person_per_room'] = concated.apply(\n",
    "    lambda x: (x['numberofadults'] + x['numberofchildren']) / x['n_rooms_booked'] if x['n_rooms_booked'] else 0,\n",
    "    axis=1)"
   ]
  },
  {
   "cell_type": "code",
   "execution_count": 12,
   "metadata": {
    "ExecuteTime": {
     "end_time": "2019-05-04T09:33:41.614535Z",
     "start_time": "2019-05-04T09:33:41.610741Z"
    }
   },
   "outputs": [],
   "source": [
    "def count_weekend(row):\n",
    "    checkin_date = row['checkin_date']\n",
    "    actual_days_booked = row['actual_days_booked']\n",
    "    stayed_in_weekend = 0\n",
    "    for i in range(actual_days_booked):\n",
    "        new_day = (checkin_date + datetime.timedelta(days=i)).day_name()\n",
    "        if new_day == \"Saturday\" or new_day == \"Friday\" or new_day == \"Sunday\":\n",
    "            stayed_in_weekend += 1\n",
    "    return stayed_in_weekend"
   ]
  },
  {
   "cell_type": "code",
   "execution_count": 13,
   "metadata": {
    "ExecuteTime": {
     "end_time": "2019-05-04T09:35:25.578665Z",
     "start_time": "2019-05-04T09:34:48.727262Z"
    }
   },
   "outputs": [],
   "source": [
    "concated['n_weekend_days'] = concated.apply(count_weekend,axis=1)"
   ]
  },
  {
   "cell_type": "code",
   "execution_count": 14,
   "metadata": {},
   "outputs": [],
   "source": [
    "concated['checkin_month']\n",
    "seasons = []\n",
    "for i in list(concated['checkin_month']):\n",
    "    if i >=1 and i<4:\n",
    "        seasons.append('w')\n",
    "    if i>=4 and i<8:\n",
    "        seasons.append('q')\n",
    "    if i>=8 and i<11:\n",
    "        seasons.append('e')\n",
    "    if i>=11 and i<=12:\n",
    "        seasons.append('t')\n",
    "concated['ses']= seasons"
   ]
  },
  {
   "cell_type": "code",
   "execution_count": 15,
   "metadata": {},
   "outputs": [],
   "source": [
    "concated.drop(['reservation_id','booking_date','checkin_date','checkout_date','memberid'],axis=1,inplace=True)"
   ]
  },
  {
   "cell_type": "code",
   "execution_count": 16,
   "metadata": {
    "ExecuteTime": {
     "end_time": "2019-05-04T09:40:07.498722Z",
     "start_time": "2019-05-04T09:40:06.610455Z"
    }
   },
   "outputs": [],
   "source": [
    "\n",
    "l=['member_age_buckets','cluster_code','reservationstatusid_code','resort_id','ses']\n",
    "\n",
    "encoder = ce.polynomial.PolynomialEncoder(l)\n",
    "concated = encoder.fit_transform(concated)\n",
    "\n",
    "#encoder = OrdinalEncoder(dtype=np.int32,)\n",
    "#concated[['memberh_age_buckets','cluster_code','reservationstatusid_code','resort_id']] = encoder.fit_transform(\n",
    "#    concated[['member_age_buckets','cluster_code','reservationstatusid_code','resort_id']]\n",
    "#)"
   ]
  },
  {
   "cell_type": "code",
   "execution_count": 17,
   "metadata": {
    "ExecuteTime": {
     "end_time": "2019-05-04T09:43:53.805702Z",
     "start_time": "2019-05-04T09:43:28.833567Z"
    }
   },
   "outputs": [],
   "source": [
    "# concated.to_csv(\"./concat_train_test_feat_engg.csv\",index=False)"
   ]
  },
  {
   "cell_type": "code",
   "execution_count": 18,
   "metadata": {
    "ExecuteTime": {
     "end_time": "2019-05-04T09:45:13.985065Z",
     "start_time": "2019-05-04T09:45:13.888930Z"
    }
   },
   "outputs": [
    {
     "data": {
      "text/html": [
       "<div>\n",
       "<style scoped>\n",
       "    .dataframe tbody tr th:only-of-type {\n",
       "        vertical-align: middle;\n",
       "    }\n",
       "\n",
       "    .dataframe tbody tr th {\n",
       "        vertical-align: top;\n",
       "    }\n",
       "\n",
       "    .dataframe thead th {\n",
       "        text-align: right;\n",
       "    }\n",
       "</style>\n",
       "<table border=\"1\" class=\"dataframe\">\n",
       "  <thead>\n",
       "    <tr style=\"text-align: right;\">\n",
       "      <th></th>\n",
       "      <th>amount_spent_per_room_night_scaled</th>\n",
       "      <th>booking_type_code</th>\n",
       "      <th>channel_code</th>\n",
       "      <th>cluster_code_0</th>\n",
       "      <th>cluster_code_1</th>\n",
       "      <th>cluster_code_2</th>\n",
       "      <th>cluster_code_3</th>\n",
       "      <th>cluster_code_4</th>\n",
       "      <th>main_product_code</th>\n",
       "      <th>member_age_buckets_0</th>\n",
       "      <th>...</th>\n",
       "      <th>checkout_dayofweek</th>\n",
       "      <th>season_holidayed_code_is_na</th>\n",
       "      <th>state_code_residence_is_na</th>\n",
       "      <th>actual_days_booked</th>\n",
       "      <th>n_rooms_booked</th>\n",
       "      <th>person_per_room</th>\n",
       "      <th>n_weekend_days</th>\n",
       "      <th>ses_0</th>\n",
       "      <th>ses_1</th>\n",
       "      <th>ses_2</th>\n",
       "    </tr>\n",
       "  </thead>\n",
       "  <tbody>\n",
       "    <tr>\n",
       "      <th>0</th>\n",
       "      <td>7.706428</td>\n",
       "      <td>1</td>\n",
       "      <td>3</td>\n",
       "      <td>-0.597614</td>\n",
       "      <td>0.545545</td>\n",
       "      <td>-0.372678</td>\n",
       "      <td>0.188982</td>\n",
       "      <td>-0.062994</td>\n",
       "      <td>1</td>\n",
       "      <td>-0.495434</td>\n",
       "      <td>...</td>\n",
       "      <td>4</td>\n",
       "      <td>0</td>\n",
       "      <td>0</td>\n",
       "      <td>1</td>\n",
       "      <td>1.0</td>\n",
       "      <td>2.0</td>\n",
       "      <td>0</td>\n",
       "      <td>-0.670820</td>\n",
       "      <td>0.5</td>\n",
       "      <td>-0.223607</td>\n",
       "    </tr>\n",
       "    <tr>\n",
       "      <th>1</th>\n",
       "      <td>6.662563</td>\n",
       "      <td>1</td>\n",
       "      <td>1</td>\n",
       "      <td>-0.597614</td>\n",
       "      <td>0.545545</td>\n",
       "      <td>-0.372678</td>\n",
       "      <td>0.188982</td>\n",
       "      <td>-0.062994</td>\n",
       "      <td>1</td>\n",
       "      <td>-0.495434</td>\n",
       "      <td>...</td>\n",
       "      <td>3</td>\n",
       "      <td>0</td>\n",
       "      <td>0</td>\n",
       "      <td>5</td>\n",
       "      <td>1.0</td>\n",
       "      <td>2.0</td>\n",
       "      <td>2</td>\n",
       "      <td>-0.670820</td>\n",
       "      <td>0.5</td>\n",
       "      <td>-0.223607</td>\n",
       "    </tr>\n",
       "    <tr>\n",
       "      <th>2</th>\n",
       "      <td>7.871602</td>\n",
       "      <td>1</td>\n",
       "      <td>1</td>\n",
       "      <td>-0.358569</td>\n",
       "      <td>-0.109109</td>\n",
       "      <td>0.521749</td>\n",
       "      <td>-0.566947</td>\n",
       "      <td>0.314970</td>\n",
       "      <td>1</td>\n",
       "      <td>-0.495434</td>\n",
       "      <td>...</td>\n",
       "      <td>3</td>\n",
       "      <td>0</td>\n",
       "      <td>0</td>\n",
       "      <td>4</td>\n",
       "      <td>1.0</td>\n",
       "      <td>2.0</td>\n",
       "      <td>1</td>\n",
       "      <td>-0.223607</td>\n",
       "      <td>-0.5</td>\n",
       "      <td>0.670820</td>\n",
       "    </tr>\n",
       "    <tr>\n",
       "      <th>3</th>\n",
       "      <td>5.344943</td>\n",
       "      <td>1</td>\n",
       "      <td>1</td>\n",
       "      <td>-0.119523</td>\n",
       "      <td>-0.436436</td>\n",
       "      <td>0.298142</td>\n",
       "      <td>0.377964</td>\n",
       "      <td>-0.629941</td>\n",
       "      <td>1</td>\n",
       "      <td>-0.495434</td>\n",
       "      <td>...</td>\n",
       "      <td>1</td>\n",
       "      <td>0</td>\n",
       "      <td>0</td>\n",
       "      <td>5</td>\n",
       "      <td>1.0</td>\n",
       "      <td>4.0</td>\n",
       "      <td>3</td>\n",
       "      <td>-0.670820</td>\n",
       "      <td>0.5</td>\n",
       "      <td>-0.223607</td>\n",
       "    </tr>\n",
       "    <tr>\n",
       "      <th>4</th>\n",
       "      <td>7.059346</td>\n",
       "      <td>1</td>\n",
       "      <td>1</td>\n",
       "      <td>-0.119523</td>\n",
       "      <td>-0.436436</td>\n",
       "      <td>0.298142</td>\n",
       "      <td>0.377964</td>\n",
       "      <td>-0.629941</td>\n",
       "      <td>1</td>\n",
       "      <td>-0.495434</td>\n",
       "      <td>...</td>\n",
       "      <td>5</td>\n",
       "      <td>0</td>\n",
       "      <td>0</td>\n",
       "      <td>5</td>\n",
       "      <td>1.0</td>\n",
       "      <td>2.0</td>\n",
       "      <td>1</td>\n",
       "      <td>0.223607</td>\n",
       "      <td>-0.5</td>\n",
       "      <td>-0.670820</td>\n",
       "    </tr>\n",
       "  </tbody>\n",
       "</table>\n",
       "<p>5 rows × 84 columns</p>\n",
       "</div>"
      ],
      "text/plain": [
       "   amount_spent_per_room_night_scaled  booking_type_code  channel_code  \\\n",
       "0                            7.706428                  1             3   \n",
       "1                            6.662563                  1             1   \n",
       "2                            7.871602                  1             1   \n",
       "3                            5.344943                  1             1   \n",
       "4                            7.059346                  1             1   \n",
       "\n",
       "   cluster_code_0  cluster_code_1  cluster_code_2  cluster_code_3  \\\n",
       "0       -0.597614        0.545545       -0.372678        0.188982   \n",
       "1       -0.597614        0.545545       -0.372678        0.188982   \n",
       "2       -0.358569       -0.109109        0.521749       -0.566947   \n",
       "3       -0.119523       -0.436436        0.298142        0.377964   \n",
       "4       -0.119523       -0.436436        0.298142        0.377964   \n",
       "\n",
       "   cluster_code_4  main_product_code  member_age_buckets_0    ...     \\\n",
       "0       -0.062994                  1             -0.495434    ...      \n",
       "1       -0.062994                  1             -0.495434    ...      \n",
       "2        0.314970                  1             -0.495434    ...      \n",
       "3       -0.629941                  1             -0.495434    ...      \n",
       "4       -0.629941                  1             -0.495434    ...      \n",
       "\n",
       "   checkout_dayofweek  season_holidayed_code_is_na  \\\n",
       "0                   4                            0   \n",
       "1                   3                            0   \n",
       "2                   3                            0   \n",
       "3                   1                            0   \n",
       "4                   5                            0   \n",
       "\n",
       "   state_code_residence_is_na  actual_days_booked  n_rooms_booked  \\\n",
       "0                           0                   1             1.0   \n",
       "1                           0                   5             1.0   \n",
       "2                           0                   4             1.0   \n",
       "3                           0                   5             1.0   \n",
       "4                           0                   5             1.0   \n",
       "\n",
       "   person_per_room  n_weekend_days     ses_0  ses_1     ses_2  \n",
       "0              2.0               0 -0.670820    0.5 -0.223607  \n",
       "1              2.0               2 -0.670820    0.5 -0.223607  \n",
       "2              2.0               1 -0.223607   -0.5  0.670820  \n",
       "3              4.0               3 -0.670820    0.5 -0.223607  \n",
       "4              2.0               1  0.223607   -0.5 -0.670820  \n",
       "\n",
       "[5 rows x 84 columns]"
      ]
     },
     "execution_count": 18,
     "metadata": {},
     "output_type": "execute_result"
    }
   ],
   "source": [
    "concated.drop(['intercept'],axis=1,inplace=True)\n",
    "concated.head()"
   ]
  },
  {
   "cell_type": "code",
   "execution_count": 19,
   "metadata": {},
   "outputs": [],
   "source": [
    "X_ =concated"
   ]
  },
  {
   "cell_type": "code",
   "execution_count": 20,
   "metadata": {},
   "outputs": [
    {
     "data": {
      "text/html": [
       "<div>\n",
       "<style scoped>\n",
       "    .dataframe tbody tr th:only-of-type {\n",
       "        vertical-align: middle;\n",
       "    }\n",
       "\n",
       "    .dataframe tbody tr th {\n",
       "        vertical-align: top;\n",
       "    }\n",
       "\n",
       "    .dataframe thead th {\n",
       "        text-align: right;\n",
       "    }\n",
       "</style>\n",
       "<table border=\"1\" class=\"dataframe\">\n",
       "  <thead>\n",
       "    <tr style=\"text-align: right;\">\n",
       "      <th></th>\n",
       "      <th>amount_spent_per_room_night_scaled</th>\n",
       "      <th>booking_type_code</th>\n",
       "      <th>channel_code</th>\n",
       "      <th>cluster_code_0</th>\n",
       "      <th>cluster_code_1</th>\n",
       "      <th>cluster_code_2</th>\n",
       "      <th>cluster_code_3</th>\n",
       "      <th>cluster_code_4</th>\n",
       "      <th>main_product_code</th>\n",
       "      <th>member_age_buckets_0</th>\n",
       "      <th>...</th>\n",
       "      <th>checkout_dayofweek</th>\n",
       "      <th>season_holidayed_code_is_na</th>\n",
       "      <th>state_code_residence_is_na</th>\n",
       "      <th>actual_days_booked</th>\n",
       "      <th>n_rooms_booked</th>\n",
       "      <th>person_per_room</th>\n",
       "      <th>n_weekend_days</th>\n",
       "      <th>ses_0</th>\n",
       "      <th>ses_1</th>\n",
       "      <th>ses_2</th>\n",
       "    </tr>\n",
       "  </thead>\n",
       "  <tbody>\n",
       "    <tr>\n",
       "      <th>0</th>\n",
       "      <td>7.706428</td>\n",
       "      <td>1</td>\n",
       "      <td>3</td>\n",
       "      <td>-0.597614</td>\n",
       "      <td>0.545545</td>\n",
       "      <td>-0.372678</td>\n",
       "      <td>0.188982</td>\n",
       "      <td>-0.062994</td>\n",
       "      <td>1</td>\n",
       "      <td>-0.495434</td>\n",
       "      <td>...</td>\n",
       "      <td>4</td>\n",
       "      <td>0</td>\n",
       "      <td>0</td>\n",
       "      <td>1</td>\n",
       "      <td>1.0</td>\n",
       "      <td>2.0</td>\n",
       "      <td>0</td>\n",
       "      <td>-0.670820</td>\n",
       "      <td>0.5</td>\n",
       "      <td>-0.223607</td>\n",
       "    </tr>\n",
       "    <tr>\n",
       "      <th>1</th>\n",
       "      <td>6.662563</td>\n",
       "      <td>1</td>\n",
       "      <td>1</td>\n",
       "      <td>-0.597614</td>\n",
       "      <td>0.545545</td>\n",
       "      <td>-0.372678</td>\n",
       "      <td>0.188982</td>\n",
       "      <td>-0.062994</td>\n",
       "      <td>1</td>\n",
       "      <td>-0.495434</td>\n",
       "      <td>...</td>\n",
       "      <td>3</td>\n",
       "      <td>0</td>\n",
       "      <td>0</td>\n",
       "      <td>5</td>\n",
       "      <td>1.0</td>\n",
       "      <td>2.0</td>\n",
       "      <td>2</td>\n",
       "      <td>-0.670820</td>\n",
       "      <td>0.5</td>\n",
       "      <td>-0.223607</td>\n",
       "    </tr>\n",
       "    <tr>\n",
       "      <th>2</th>\n",
       "      <td>7.871602</td>\n",
       "      <td>1</td>\n",
       "      <td>1</td>\n",
       "      <td>-0.358569</td>\n",
       "      <td>-0.109109</td>\n",
       "      <td>0.521749</td>\n",
       "      <td>-0.566947</td>\n",
       "      <td>0.314970</td>\n",
       "      <td>1</td>\n",
       "      <td>-0.495434</td>\n",
       "      <td>...</td>\n",
       "      <td>3</td>\n",
       "      <td>0</td>\n",
       "      <td>0</td>\n",
       "      <td>4</td>\n",
       "      <td>1.0</td>\n",
       "      <td>2.0</td>\n",
       "      <td>1</td>\n",
       "      <td>-0.223607</td>\n",
       "      <td>-0.5</td>\n",
       "      <td>0.670820</td>\n",
       "    </tr>\n",
       "    <tr>\n",
       "      <th>3</th>\n",
       "      <td>5.344943</td>\n",
       "      <td>1</td>\n",
       "      <td>1</td>\n",
       "      <td>-0.119523</td>\n",
       "      <td>-0.436436</td>\n",
       "      <td>0.298142</td>\n",
       "      <td>0.377964</td>\n",
       "      <td>-0.629941</td>\n",
       "      <td>1</td>\n",
       "      <td>-0.495434</td>\n",
       "      <td>...</td>\n",
       "      <td>1</td>\n",
       "      <td>0</td>\n",
       "      <td>0</td>\n",
       "      <td>5</td>\n",
       "      <td>1.0</td>\n",
       "      <td>4.0</td>\n",
       "      <td>3</td>\n",
       "      <td>-0.670820</td>\n",
       "      <td>0.5</td>\n",
       "      <td>-0.223607</td>\n",
       "    </tr>\n",
       "    <tr>\n",
       "      <th>4</th>\n",
       "      <td>7.059346</td>\n",
       "      <td>1</td>\n",
       "      <td>1</td>\n",
       "      <td>-0.119523</td>\n",
       "      <td>-0.436436</td>\n",
       "      <td>0.298142</td>\n",
       "      <td>0.377964</td>\n",
       "      <td>-0.629941</td>\n",
       "      <td>1</td>\n",
       "      <td>-0.495434</td>\n",
       "      <td>...</td>\n",
       "      <td>5</td>\n",
       "      <td>0</td>\n",
       "      <td>0</td>\n",
       "      <td>5</td>\n",
       "      <td>1.0</td>\n",
       "      <td>2.0</td>\n",
       "      <td>1</td>\n",
       "      <td>0.223607</td>\n",
       "      <td>-0.5</td>\n",
       "      <td>-0.670820</td>\n",
       "    </tr>\n",
       "  </tbody>\n",
       "</table>\n",
       "<p>5 rows × 84 columns</p>\n",
       "</div>"
      ],
      "text/plain": [
       "   amount_spent_per_room_night_scaled  booking_type_code  channel_code  \\\n",
       "0                            7.706428                  1             3   \n",
       "1                            6.662563                  1             1   \n",
       "2                            7.871602                  1             1   \n",
       "3                            5.344943                  1             1   \n",
       "4                            7.059346                  1             1   \n",
       "\n",
       "   cluster_code_0  cluster_code_1  cluster_code_2  cluster_code_3  \\\n",
       "0       -0.597614        0.545545       -0.372678        0.188982   \n",
       "1       -0.597614        0.545545       -0.372678        0.188982   \n",
       "2       -0.358569       -0.109109        0.521749       -0.566947   \n",
       "3       -0.119523       -0.436436        0.298142        0.377964   \n",
       "4       -0.119523       -0.436436        0.298142        0.377964   \n",
       "\n",
       "   cluster_code_4  main_product_code  member_age_buckets_0    ...     \\\n",
       "0       -0.062994                  1             -0.495434    ...      \n",
       "1       -0.062994                  1             -0.495434    ...      \n",
       "2        0.314970                  1             -0.495434    ...      \n",
       "3       -0.629941                  1             -0.495434    ...      \n",
       "4       -0.629941                  1             -0.495434    ...      \n",
       "\n",
       "   checkout_dayofweek  season_holidayed_code_is_na  \\\n",
       "0                   4                            0   \n",
       "1                   3                            0   \n",
       "2                   3                            0   \n",
       "3                   1                            0   \n",
       "4                   5                            0   \n",
       "\n",
       "   state_code_residence_is_na  actual_days_booked  n_rooms_booked  \\\n",
       "0                           0                   1             1.0   \n",
       "1                           0                   5             1.0   \n",
       "2                           0                   4             1.0   \n",
       "3                           0                   5             1.0   \n",
       "4                           0                   5             1.0   \n",
       "\n",
       "   person_per_room  n_weekend_days     ses_0  ses_1     ses_2  \n",
       "0              2.0               0 -0.670820    0.5 -0.223607  \n",
       "1              2.0               2 -0.670820    0.5 -0.223607  \n",
       "2              2.0               1 -0.223607   -0.5  0.670820  \n",
       "3              4.0               3 -0.670820    0.5 -0.223607  \n",
       "4              2.0               1  0.223607   -0.5 -0.670820  \n",
       "\n",
       "[5 rows x 84 columns]"
      ]
     },
     "execution_count": 20,
     "metadata": {},
     "output_type": "execute_result"
    }
   ],
   "source": [
    "X_.head()"
   ]
  },
  {
   "cell_type": "code",
   "execution_count": 21,
   "metadata": {},
   "outputs": [],
   "source": [
    "y_ = X_.drop(['amount_spent_per_room_night_scaled'],axis=1)"
   ]
  },
  {
   "cell_type": "code",
   "execution_count": null,
   "metadata": {},
   "outputs": [],
   "source": []
  },
  {
   "cell_type": "code",
   "execution_count": 24,
   "metadata": {},
   "outputs": [],
   "source": [
    "import numpy as np\n",
    "from sklearn.cluster import KMeans\n",
    "kmeans = KMeans(n_clusters=30, random_state=0).fit(y_)\n"
   ]
  },
  {
   "cell_type": "code",
   "execution_count": 25,
   "metadata": {},
   "outputs": [],
   "source": [
    "labels = kmeans.labels_\n",
    "labels= list(map(lambda x : str(x), labels))\n",
    "concated['k_means'] = labels"
   ]
  },
  {
   "cell_type": "code",
   "execution_count": 26,
   "metadata": {},
   "outputs": [
    {
     "data": {
      "text/html": [
       "<div>\n",
       "<style scoped>\n",
       "    .dataframe tbody tr th:only-of-type {\n",
       "        vertical-align: middle;\n",
       "    }\n",
       "\n",
       "    .dataframe tbody tr th {\n",
       "        vertical-align: top;\n",
       "    }\n",
       "\n",
       "    .dataframe thead th {\n",
       "        text-align: right;\n",
       "    }\n",
       "</style>\n",
       "<table border=\"1\" class=\"dataframe\">\n",
       "  <thead>\n",
       "    <tr style=\"text-align: right;\">\n",
       "      <th></th>\n",
       "      <th>amount_spent_per_room_night_scaled</th>\n",
       "      <th>booking_type_code</th>\n",
       "      <th>channel_code</th>\n",
       "      <th>cluster_code_0</th>\n",
       "      <th>cluster_code_1</th>\n",
       "      <th>cluster_code_2</th>\n",
       "      <th>cluster_code_3</th>\n",
       "      <th>cluster_code_4</th>\n",
       "      <th>main_product_code</th>\n",
       "      <th>member_age_buckets_0</th>\n",
       "      <th>...</th>\n",
       "      <th>season_holidayed_code_is_na</th>\n",
       "      <th>state_code_residence_is_na</th>\n",
       "      <th>actual_days_booked</th>\n",
       "      <th>n_rooms_booked</th>\n",
       "      <th>person_per_room</th>\n",
       "      <th>n_weekend_days</th>\n",
       "      <th>ses_0</th>\n",
       "      <th>ses_1</th>\n",
       "      <th>ses_2</th>\n",
       "      <th>k_means</th>\n",
       "    </tr>\n",
       "  </thead>\n",
       "  <tbody>\n",
       "    <tr>\n",
       "      <th>0</th>\n",
       "      <td>7.706428</td>\n",
       "      <td>1</td>\n",
       "      <td>3</td>\n",
       "      <td>-0.597614</td>\n",
       "      <td>0.545545</td>\n",
       "      <td>-0.372678</td>\n",
       "      <td>0.188982</td>\n",
       "      <td>-0.062994</td>\n",
       "      <td>1</td>\n",
       "      <td>-0.495434</td>\n",
       "      <td>...</td>\n",
       "      <td>0</td>\n",
       "      <td>0</td>\n",
       "      <td>1</td>\n",
       "      <td>1.0</td>\n",
       "      <td>2.0</td>\n",
       "      <td>0</td>\n",
       "      <td>-0.670820</td>\n",
       "      <td>0.5</td>\n",
       "      <td>-0.223607</td>\n",
       "      <td>6</td>\n",
       "    </tr>\n",
       "    <tr>\n",
       "      <th>1</th>\n",
       "      <td>6.662563</td>\n",
       "      <td>1</td>\n",
       "      <td>1</td>\n",
       "      <td>-0.597614</td>\n",
       "      <td>0.545545</td>\n",
       "      <td>-0.372678</td>\n",
       "      <td>0.188982</td>\n",
       "      <td>-0.062994</td>\n",
       "      <td>1</td>\n",
       "      <td>-0.495434</td>\n",
       "      <td>...</td>\n",
       "      <td>0</td>\n",
       "      <td>0</td>\n",
       "      <td>5</td>\n",
       "      <td>1.0</td>\n",
       "      <td>2.0</td>\n",
       "      <td>2</td>\n",
       "      <td>-0.670820</td>\n",
       "      <td>0.5</td>\n",
       "      <td>-0.223607</td>\n",
       "      <td>17</td>\n",
       "    </tr>\n",
       "    <tr>\n",
       "      <th>2</th>\n",
       "      <td>7.871602</td>\n",
       "      <td>1</td>\n",
       "      <td>1</td>\n",
       "      <td>-0.358569</td>\n",
       "      <td>-0.109109</td>\n",
       "      <td>0.521749</td>\n",
       "      <td>-0.566947</td>\n",
       "      <td>0.314970</td>\n",
       "      <td>1</td>\n",
       "      <td>-0.495434</td>\n",
       "      <td>...</td>\n",
       "      <td>0</td>\n",
       "      <td>0</td>\n",
       "      <td>4</td>\n",
       "      <td>1.0</td>\n",
       "      <td>2.0</td>\n",
       "      <td>1</td>\n",
       "      <td>-0.223607</td>\n",
       "      <td>-0.5</td>\n",
       "      <td>0.670820</td>\n",
       "      <td>4</td>\n",
       "    </tr>\n",
       "    <tr>\n",
       "      <th>3</th>\n",
       "      <td>5.344943</td>\n",
       "      <td>1</td>\n",
       "      <td>1</td>\n",
       "      <td>-0.119523</td>\n",
       "      <td>-0.436436</td>\n",
       "      <td>0.298142</td>\n",
       "      <td>0.377964</td>\n",
       "      <td>-0.629941</td>\n",
       "      <td>1</td>\n",
       "      <td>-0.495434</td>\n",
       "      <td>...</td>\n",
       "      <td>0</td>\n",
       "      <td>0</td>\n",
       "      <td>5</td>\n",
       "      <td>1.0</td>\n",
       "      <td>4.0</td>\n",
       "      <td>3</td>\n",
       "      <td>-0.670820</td>\n",
       "      <td>0.5</td>\n",
       "      <td>-0.223607</td>\n",
       "      <td>2</td>\n",
       "    </tr>\n",
       "    <tr>\n",
       "      <th>4</th>\n",
       "      <td>7.059346</td>\n",
       "      <td>1</td>\n",
       "      <td>1</td>\n",
       "      <td>-0.119523</td>\n",
       "      <td>-0.436436</td>\n",
       "      <td>0.298142</td>\n",
       "      <td>0.377964</td>\n",
       "      <td>-0.629941</td>\n",
       "      <td>1</td>\n",
       "      <td>-0.495434</td>\n",
       "      <td>...</td>\n",
       "      <td>0</td>\n",
       "      <td>0</td>\n",
       "      <td>5</td>\n",
       "      <td>1.0</td>\n",
       "      <td>2.0</td>\n",
       "      <td>1</td>\n",
       "      <td>0.223607</td>\n",
       "      <td>-0.5</td>\n",
       "      <td>-0.670820</td>\n",
       "      <td>8</td>\n",
       "    </tr>\n",
       "  </tbody>\n",
       "</table>\n",
       "<p>5 rows × 85 columns</p>\n",
       "</div>"
      ],
      "text/plain": [
       "   amount_spent_per_room_night_scaled  booking_type_code  channel_code  \\\n",
       "0                            7.706428                  1             3   \n",
       "1                            6.662563                  1             1   \n",
       "2                            7.871602                  1             1   \n",
       "3                            5.344943                  1             1   \n",
       "4                            7.059346                  1             1   \n",
       "\n",
       "   cluster_code_0  cluster_code_1  cluster_code_2  cluster_code_3  \\\n",
       "0       -0.597614        0.545545       -0.372678        0.188982   \n",
       "1       -0.597614        0.545545       -0.372678        0.188982   \n",
       "2       -0.358569       -0.109109        0.521749       -0.566947   \n",
       "3       -0.119523       -0.436436        0.298142        0.377964   \n",
       "4       -0.119523       -0.436436        0.298142        0.377964   \n",
       "\n",
       "   cluster_code_4  main_product_code  member_age_buckets_0   ...     \\\n",
       "0       -0.062994                  1             -0.495434   ...      \n",
       "1       -0.062994                  1             -0.495434   ...      \n",
       "2        0.314970                  1             -0.495434   ...      \n",
       "3       -0.629941                  1             -0.495434   ...      \n",
       "4       -0.629941                  1             -0.495434   ...      \n",
       "\n",
       "   season_holidayed_code_is_na  state_code_residence_is_na  \\\n",
       "0                            0                           0   \n",
       "1                            0                           0   \n",
       "2                            0                           0   \n",
       "3                            0                           0   \n",
       "4                            0                           0   \n",
       "\n",
       "   actual_days_booked  n_rooms_booked  person_per_room  n_weekend_days  \\\n",
       "0                   1             1.0              2.0               0   \n",
       "1                   5             1.0              2.0               2   \n",
       "2                   4             1.0              2.0               1   \n",
       "3                   5             1.0              4.0               3   \n",
       "4                   5             1.0              2.0               1   \n",
       "\n",
       "      ses_0  ses_1     ses_2  k_means  \n",
       "0 -0.670820    0.5 -0.223607        6  \n",
       "1 -0.670820    0.5 -0.223607       17  \n",
       "2 -0.223607   -0.5  0.670820        4  \n",
       "3 -0.670820    0.5 -0.223607        2  \n",
       "4  0.223607   -0.5 -0.670820        8  \n",
       "\n",
       "[5 rows x 85 columns]"
      ]
     },
     "execution_count": 26,
     "metadata": {},
     "output_type": "execute_result"
    }
   ],
   "source": [
    "concated.head()"
   ]
  },
  {
   "cell_type": "code",
   "execution_count": 27,
   "metadata": {},
   "outputs": [],
   "source": [
    "encoder = ce.polynomial.PolynomialEncoder(['k_means'])\n",
    "concated = encoder.fit_transform(concated)"
   ]
  },
  {
   "cell_type": "code",
   "execution_count": 28,
   "metadata": {},
   "outputs": [
    {
     "data": {
      "text/plain": [
       "Index(['amount_spent_per_room_night_scaled', 'booking_type_code',\n",
       "       'channel_code', 'cluster_code_0', 'cluster_code_1', 'cluster_code_2',\n",
       "       'cluster_code_3', 'cluster_code_4', 'main_product_code',\n",
       "       'member_age_buckets_0',\n",
       "       ...\n",
       "       'k_means_19', 'k_means_20', 'k_means_21', 'k_means_22', 'k_means_23',\n",
       "       'k_means_24', 'k_means_25', 'k_means_26', 'k_means_27', 'k_means_28'],\n",
       "      dtype='object', length=113)"
      ]
     },
     "execution_count": 28,
     "metadata": {},
     "output_type": "execute_result"
    }
   ],
   "source": [
    "concated.drop(['intercept'],axis=1,inplace=True)\n",
    "\n",
    "concated.columns\n"
   ]
  },
  {
   "cell_type": "code",
   "execution_count": 29,
   "metadata": {
    "ExecuteTime": {
     "end_time": "2019-05-04T09:46:36.923810Z",
     "start_time": "2019-05-04T09:46:36.893454Z"
    }
   },
   "outputs": [],
   "source": [
    "train = concated[:len(train)]\n",
    "test = concated[-len(test):]"
   ]
  },
  {
   "cell_type": "code",
   "execution_count": 30,
   "metadata": {},
   "outputs": [
    {
     "data": {
      "text/plain": [
       "Index(['amount_spent_per_room_night_scaled', 'booking_type_code',\n",
       "       'channel_code', 'cluster_code_0', 'cluster_code_1', 'cluster_code_2',\n",
       "       'cluster_code_3', 'cluster_code_4', 'main_product_code',\n",
       "       'member_age_buckets_0',\n",
       "       ...\n",
       "       'k_means_19', 'k_means_20', 'k_means_21', 'k_means_22', 'k_means_23',\n",
       "       'k_means_24', 'k_means_25', 'k_means_26', 'k_means_27', 'k_means_28'],\n",
       "      dtype='object', length=113)"
      ]
     },
     "execution_count": 30,
     "metadata": {},
     "output_type": "execute_result"
    }
   ],
   "source": [
    "concated.columns"
   ]
  },
  {
   "cell_type": "code",
   "execution_count": 31,
   "metadata": {
    "ExecuteTime": {
     "end_time": "2019-05-04T09:52:17.737555Z",
     "start_time": "2019-05-04T09:50:52.813715Z"
    }
   },
   "outputs": [
    {
     "name": "stdout",
     "output_type": "stream",
     "text": [
      "0\n",
      "1\n",
      "2\n",
      "3\n",
      "4\n",
      "5\n",
      "6\n",
      "7\n",
      "8\n",
      "9\n"
     ]
    }
   ],
   "source": [
    "all_predictions = []\n",
    "all_mse = []\n",
    "X = train.drop(['amount_spent_per_room_night_scaled'], axis=1)\n",
    "Y = train['amount_spent_per_room_night_scaled']\n",
    "for i in range(10):\n",
    "    print(i)\n",
    "    trainX, testX, trainY, testY = train_test_split(X, Y,test_size=0.15)\n",
    "    lgb_model = lightgbm.LGBMRegressor(n_estimators=1000)\n",
    "    lgb_model.fit(\n",
    "        trainX,\n",
    "        trainY,\n",
    "        eval_set=(testX, testY),\n",
    "        eval_metric='rmse',\n",
    "        early_stopping_rounds=100,verbose = 0 \n",
    "    )\n",
    "    predictions = lgb_model.predict(test.drop(['amount_spent_per_room_night_scaled'], axis=1))\n",
    "    test_pred = lgb_model.predict(testX)\n",
    "    from sklearn.metrics import mean_squared_error\n",
    "    from math import sqrt\n",
    "    all_mse.append(sqrt(mean_squared_error(testY, test_pred)))\n",
    "    all_predictions.append(predictions)"
   ]
  },
  {
   "cell_type": "code",
   "execution_count": 32,
   "metadata": {
    "ExecuteTime": {
     "end_time": "2019-05-04T09:53:59.750371Z",
     "start_time": "2019-05-04T09:53:59.732671Z"
    }
   },
   "outputs": [],
   "source": [
    "#internal_pred = np.stack(internal_test_pred,axis=1).mean(axis=1)\n",
    "final_predictions = np.stack(all_predictions,axis=1).mean(axis=1)"
   ]
  },
  {
   "cell_type": "code",
   "execution_count": 33,
   "metadata": {
    "ExecuteTime": {
     "end_time": "2019-05-04T09:54:38.376050Z",
     "start_time": "2019-05-04T09:54:37.779874Z"
    }
   },
   "outputs": [],
   "source": [
    "sample_submission['amount_spent_per_room_night_scaled'] = final_predictions\n",
    "sample_submission.to_csv(\n",
    "    \"poly_enc_1_k_means_fet_seson_included.csv\",\n",
    "    index=False)"
   ]
  },
  {
   "cell_type": "code",
   "execution_count": null,
   "metadata": {},
   "outputs": [],
   "source": [
    "from sklearn.metrics import mean_squared_error\n",
    "from math import sqrt\n",
    "sqrt(mean_squared_error(y_test_internal, pred_orig_test))\n"
   ]
  },
  {
   "cell_type": "code",
   "execution_count": null,
   "metadata": {},
   "outputs": [],
   "source": [
    "np.array(all_mse).mean(axis=0)"
   ]
  },
  {
   "cell_type": "code",
   "execution_count": null,
   "metadata": {},
   "outputs": [],
   "source": [
    "all_mse"
   ]
  },
  {
   "cell_type": "code",
   "execution_count": null,
   "metadata": {},
   "outputs": [],
   "source": []
  }
 ],
 "metadata": {
  "kernelspec": {
   "display_name": "Python 3",
   "language": "python",
   "name": "python3"
  },
  "language_info": {
   "codemirror_mode": {
    "name": "ipython",
    "version": 3
   },
   "file_extension": ".py",
   "mimetype": "text/x-python",
   "name": "python",
   "nbconvert_exporter": "python",
   "pygments_lexer": "ipython3",
   "version": "3.6.7"
  },
  "varInspector": {
   "cols": {
    "lenName": 16,
    "lenType": 16,
    "lenVar": 40
   },
   "kernels_config": {
    "python": {
     "delete_cmd_postfix": "",
     "delete_cmd_prefix": "del ",
     "library": "var_list.py",
     "varRefreshCmd": "print(var_dic_list())"
    },
    "r": {
     "delete_cmd_postfix": ") ",
     "delete_cmd_prefix": "rm(",
     "library": "var_list.r",
     "varRefreshCmd": "cat(var_dic_list()) "
    }
   },
   "types_to_exclude": [
    "module",
    "function",
    "builtin_function_or_method",
    "instance",
    "_Feature"
   ],
   "window_display": false
  }
 },
 "nbformat": 4,
 "nbformat_minor": 2
}
