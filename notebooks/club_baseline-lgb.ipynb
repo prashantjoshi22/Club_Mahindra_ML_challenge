{
 "cells": [
  {
   "cell_type": "code",
   "execution_count": null,
   "metadata": {},
   "outputs": [],
   "source": [
    "import pandas as pd"
   ]
  },
  {
   "cell_type": "code",
   "execution_count": null,
   "metadata": {},
   "outputs": [],
   "source": [
    "df_train = pd.read_csv('train_5CLrC8b/train.csv')\n",
    "df_test = pd.read_csv('test.csv')"
   ]
  },
  {
   "cell_type": "code",
   "execution_count": null,
   "metadata": {},
   "outputs": [],
   "source": [
    "df_train['source_'] = 1\n",
    "df_test['source_'] =0\n",
    "df = pd.concat([df_train,df_test])\n",
    "df.reset_index(inplace=True)\n",
    "df.drop(['index'],inplace=True,axis=1)\n",
    "df.head()"
   ]
  },
  {
   "cell_type": "code",
   "execution_count": null,
   "metadata": {},
   "outputs": [],
   "source": [
    "#x = pd.to_datetime(df['checkout_date']) - pd.to_datetime(df['checkin_date'])"
   ]
  },
  {
   "cell_type": "code",
   "execution_count": null,
   "metadata": {},
   "outputs": [],
   "source": [
    "#df['num_days'] = x.dt.days"
   ]
  },
  {
   "cell_type": "code",
   "execution_count": null,
   "metadata": {},
   "outputs": [],
   "source": [
    "df.drop(['checkout_date','checkin_date','booking_date','memberid','reservation_id',\n",
    "        'reservationstatusid_code' ,'season_holidayed_code','state_code_residence'],inplace=True,axis=1)"
   ]
  },
  {
   "cell_type": "code",
   "execution_count": null,
   "metadata": {},
   "outputs": [],
   "source": [
    "df.head()"
   ]
  },
  {
   "cell_type": "code",
   "execution_count": null,
   "metadata": {},
   "outputs": [],
   "source": [
    "# l = ['booking_type_code',\n",
    "#        'channel_code', 'cluster_code', 'main_product_code',\n",
    "#        'member_age_buckets', 'numberofadults', 'numberofchildren','resort_id',\n",
    "#        'resort_region_code', 'resort_type_code', 'room_type_booked_code',\n",
    "#        'roomnights', 'persontravellingid',\n",
    "#         'state_code_resort']\n",
    "# df = pd.get_dummies(df,columns=l)"
   ]
  },
  {
   "cell_type": "code",
   "execution_count": null,
   "metadata": {},
   "outputs": [],
   "source": [
    "df.head()"
   ]
  },
  {
   "cell_type": "code",
   "execution_count": null,
   "metadata": {},
   "outputs": [],
   "source": [
    "preprocessed_main_test = df.loc[df['source_'] == 0]\n",
    "preprocessed_main_train = df.loc[df['source_'] == 1]"
   ]
  },
  {
   "cell_type": "code",
   "execution_count": null,
   "metadata": {},
   "outputs": [],
   "source": [
    "preprocessed_main_test.drop(['source_','amount_spent_per_room_night_scaled'],axis =1,inplace=True)"
   ]
  },
  {
   "cell_type": "code",
   "execution_count": null,
   "metadata": {},
   "outputs": [],
   "source": [
    "y_train = (preprocessed_main_train['amount_spent_per_room_night_scaled'])\n",
    "x_train = preprocessed_main_train.drop(['amount_spent_per_room_night_scaled','source_'],axis =1)"
   ]
  },
  {
   "cell_type": "code",
   "execution_count": null,
   "metadata": {},
   "outputs": [],
   "source": [
    "from sklearn.model_selection import train_test_split\n",
    "from sklearn.naive_bayes import MultinomialNB,GaussianNB\n",
    "from sklearn.linear_model import LogisticRegression\n",
    "X_train, X_test, y_train_internal, y_test_internal = train_test_split(x_train,y_train ,test_size =.2)\n"
   ]
  },
  {
   "cell_type": "code",
   "execution_count": null,
   "metadata": {},
   "outputs": [],
   "source": [
    "       \n",
    "params = {\n",
    "'num_leaves': 60,\n",
    "'max_bin': 110,\n",
    "'min_data_in_leaf': 50,\n",
    "'learning_rate': 0.01,\n",
    "'min_sum_hessian_in_leaf': 0.000446,\n",
    "'bagging_fraction': 0.60,\n",
    "'bagging_freq': 15,\n",
    "'max_depth': 20,\n",
    "'save_binary': True,\n",
    "'seed': 31452,\n",
    "'feature_fraction_seed': 31415,\n",
    "'feature_fraction': 0.51,\n",
    "'bagging_seed': 31415,\n",
    "'drop_seed': 31415,\n",
    "'data_random_seed': 31415,\n",
    "'objective': 'regression',\n",
    "'boosting_type': 'gbdt',\n",
    "'verbose': 1,\n",
    "'metric': 'rmse',\n",
    "'is_unbalance': False,\n",
    "#     'categorical_feature': \"name:branch_id\"\n",
    "# 'scale_pos_weight': len(train_df[\"target\"] == 0) / sum(train_df[\"target\"])\n",
    "}\n",
    "\n",
    "# Import the model we are using\n",
    "#from sklearn.ensemble import RandomForestClassifier\n",
    "# from tpot import TPOTClassifier\n",
    "import lightgbm as lgb\n",
    "\n",
    "lg =  lgb.LGBMRegressor()\n",
    "lg.fit(X_train, y_train_internal)\n",
    "d_train = lgb.Dataset(X_train, label=y_train_internal)\n",
    "# Instantiate model with 1000 decision trees\n",
    "#rf = RandomForestClassifier()\n",
    "\n",
    "# Train the model on training data\n",
    "#rm = lgb.tr(X_train, y_train_internal)\n",
    "\n",
    "\n",
    "\n",
    "#clf = lgb.train(params, d_trainnames=['train','valid'], evals_result=evals_results, num_boost_round=3000,\n",
    "             \n",
    "\n",
    "#n_estimators = clf.best_iteration\n",
    "print('stert')\n",
    "\n",
    "\n",
    "#clf = lgb.train(params, d_train,30000)"
   ]
  },
  {
   "cell_type": "code",
   "execution_count": null,
   "metadata": {},
   "outputs": [],
   "source": [
    "pred = lg.predict(preprocessed_main_test)"
   ]
  },
  {
   "cell_type": "code",
   "execution_count": null,
   "metadata": {},
   "outputs": [],
   "source": []
  },
  {
   "cell_type": "code",
   "execution_count": null,
   "metadata": {},
   "outputs": [],
   "source": [
    "from sklearn.metrics import mean_squared_error\n",
    "from math import sqrt\n",
    "pred_orig_test = lg.predict(X_test)\n",
    "rms = sqrt(mean_squared_error(y_test_internal, pred_orig_test))\n",
    "rms"
   ]
  },
  {
   "cell_type": "code",
   "execution_count": null,
   "metadata": {},
   "outputs": [],
   "source": [
    "#pred = regr.predict(preprocessed_main_test)\n",
    "final_res = list(zip(df_test['reservation_id'],pred))"
   ]
  },
  {
   "cell_type": "code",
   "execution_count": null,
   "metadata": {},
   "outputs": [],
   "source": [
    "res_ = pd.DataFrame(final_res,columns=['reservation_id','amount_spent_per_room_night_scaled'])"
   ]
  },
  {
   "cell_type": "code",
   "execution_count": null,
   "metadata": {},
   "outputs": [],
   "source": [
    "res_.to_csv('sub_2_lgb.csv',index=False)"
   ]
  },
  {
   "cell_type": "code",
   "execution_count": null,
   "metadata": {},
   "outputs": [],
   "source": []
  }
 ],
 "metadata": {
  "kernelspec": {
   "display_name": "Python 3",
   "language": "python",
   "name": "python3"
  },
  "language_info": {
   "codemirror_mode": {
    "name": "ipython",
    "version": 3
   },
   "file_extension": ".py",
   "mimetype": "text/x-python",
   "name": "python",
   "nbconvert_exporter": "python",
   "pygments_lexer": "ipython3",
   "version": "3.6.7"
  }
 },
 "nbformat": 4,
 "nbformat_minor": 2
}
