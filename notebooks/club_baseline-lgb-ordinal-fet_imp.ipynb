{
 "cells": [
  {
   "cell_type": "code",
   "execution_count": null,
   "metadata": {},
   "outputs": [],
   "source": [
    "import pandas as pd\n",
    "import numpy as np"
   ]
  },
  {
   "cell_type": "code",
   "execution_count": null,
   "metadata": {},
   "outputs": [],
   "source": [
    "df_train = pd.read_csv('train_5CLrC8b/train.csv')\n",
    "df_test = pd.read_csv('test.csv')"
   ]
  },
  {
   "cell_type": "code",
   "execution_count": null,
   "metadata": {},
   "outputs": [],
   "source": [
    "df_train['source_'] = 1\n",
    "df_test['source_'] =0\n",
    "df = pd.concat([df_train,df_test])\n",
    "df.reset_index(inplace=True)\n",
    "df.drop(['index'],inplace=True,axis=1)\n",
    "df.head()"
   ]
  },
  {
   "cell_type": "code",
   "execution_count": null,
   "metadata": {},
   "outputs": [],
   "source": []
  },
  {
   "cell_type": "code",
   "execution_count": null,
   "metadata": {},
   "outputs": [],
   "source": [
    "a = list(df['season_holidayed_code'].isnull())\n",
    "extra_shc = []\n",
    "for i in a:\n",
    "    if i == False:\n",
    "        extra_shc.append(1)\n",
    "    else:\n",
    "        extra_shc.append(0)"
   ]
  },
  {
   "cell_type": "code",
   "execution_count": null,
   "metadata": {},
   "outputs": [],
   "source": [
    "b = list(df['state_code_residence'].isnull())\n",
    "extra_scr = []\n",
    "for i in b:\n",
    "    if i == False:\n",
    "        extra_scr.append(1)\n",
    "    else:\n",
    "        extra_scr.append(0)"
   ]
  },
  {
   "cell_type": "code",
   "execution_count": null,
   "metadata": {},
   "outputs": [],
   "source": [
    "df['scr'] = b\n",
    "df['shc'] = a"
   ]
  },
  {
   "cell_type": "code",
   "execution_count": null,
   "metadata": {},
   "outputs": [],
   "source": [
    "df.fillna(0,inplace=True,axis=0)"
   ]
  },
  {
   "cell_type": "code",
   "execution_count": null,
   "metadata": {},
   "outputs": [],
   "source": [
    "df.head()"
   ]
  },
  {
   "cell_type": "code",
   "execution_count": null,
   "metadata": {},
   "outputs": [],
   "source": [
    "dte = pd.to_datetime(df['checkin_date'],dayfirst=True)\n",
    "dte1 = pd.to_datetime(df['checkout_date'],dayfirst=True)\n",
    "dte2 = pd.to_datetime(df['booking_date'],dayfirst=True)"
   ]
  },
  {
   "cell_type": "code",
   "execution_count": null,
   "metadata": {},
   "outputs": [],
   "source": [
    "year = dte.apply(lambda x : x.year)\n",
    "month = dte.apply(lambda x : x.month)\n",
    "day = dte.apply(lambda x : x.day)\n",
    "\n",
    "year_1 = dte1.apply(lambda x : x.year)\n",
    "month_1 = dte1.apply(lambda x : x.month)\n",
    "day_1 = dte1.apply(lambda x : x.day)\n",
    "\n",
    "year_2 = dte2.apply(lambda x : x.year)\n",
    "month_2 = dte2.apply(lambda x : x.month)\n",
    "day_2 = dte2.apply(lambda x : x.day)\n"
   ]
  },
  {
   "cell_type": "code",
   "execution_count": null,
   "metadata": {},
   "outputs": [],
   "source": [
    "df['month']=month\n",
    "df['year'] = year\n",
    "df['day'] = day\n",
    "\n",
    "df['month_1']=month_1\n",
    "df['year_1'] = year_1\n",
    "df['day_1'] = day_1\n",
    "\n",
    "\n",
    "df['month_2']=month_2\n",
    "df['year_2'] = year_2\n",
    "df['day_2'] = day_2\n",
    "\n"
   ]
  },
  {
   "cell_type": "code",
   "execution_count": null,
   "metadata": {},
   "outputs": [],
   "source": [
    "seasons = []\n",
    "for i in list(df['month']):\n",
    "    if i >=1 and i<4:\n",
    "        seasons.append('w')\n",
    "    if i>=4 and i<8:\n",
    "        seasons.append('q')\n",
    "    if i>=8 and i<11:\n",
    "        seasons.append('e')\n",
    "    if i>=11 and i<=12:\n",
    "        seasons.append('t')\n",
    "df['ses']= seasons"
   ]
  },
  {
   "cell_type": "code",
   "execution_count": null,
   "metadata": {},
   "outputs": [],
   "source": [
    "df.drop(['checkout_date','checkin_date','booking_date','memberid','reservation_id'],inplace=True,axis=1)"
   ]
  },
  {
   "cell_type": "code",
   "execution_count": null,
   "metadata": {},
   "outputs": [],
   "source": []
  },
  {
   "cell_type": "code",
   "execution_count": null,
   "metadata": {},
   "outputs": [],
   "source": []
  },
  {
   "cell_type": "code",
   "execution_count": null,
   "metadata": {},
   "outputs": [],
   "source": [
    "# import category_encoders as ce\n",
    "# l = ['booking_type_code',\n",
    "#        'channel_code', 'cluster_code', 'main_product_code',\n",
    "#        'member_age_buckets','resort_id','state_code_residence',\n",
    "#        'resort_region_code', 'resort_type_code', 'room_type_booked_code',\n",
    "#         'persontravellingid','reservationstatusid_code',\n",
    "#         'state_code_resort','season_holidayed_code','scr','shc','ses']\n",
    "# encoder = ce.()\n",
    "# df[l] = encoder.fit_transform(df[l])\n",
    "# #df_ = pd.get_dummies(df,columns=l)"
   ]
  },
  {
   "cell_type": "code",
   "execution_count": null,
   "metadata": {},
   "outputs": [],
   "source": [
    "from sklearn.preprocessing import LabelBinarizer\n",
    "b_data = []\n",
    "l = ['booking_type_code',\n",
    "       'channel_code', 'cluster_code', 'main_product_code',\n",
    "       'member_age_buckets','resort_id','state_code_residence',\n",
    "       'resort_region_code', 'resort_type_code', 'room_type_booked_code',\n",
    "        'persontravellingid','reservationstatusid_code',\n",
    "        'state_code_resort','season_holidayed_code','scr','shc']\n",
    "\n",
    "import category_encoders as ce\n",
    "\n",
    "\n",
    "# Specify the columns to encode then fit and transform\n",
    "encoder = ce.ordinal.OrdinalEncoder(cols=l)\n",
    "df= encoder.fit_transform(df, verbose=1)\n"
   ]
  },
  {
   "cell_type": "code",
   "execution_count": null,
   "metadata": {},
   "outputs": [],
   "source": [
    "df.drop(['ses'],inplace=True,axis=1)"
   ]
  },
  {
   "cell_type": "code",
   "execution_count": null,
   "metadata": {},
   "outputs": [],
   "source": [
    "preprocessed_main_test = df.loc[df['source_'] == 0]\n",
    "preprocessed_main_train = df.loc[df['source_'] == 1]"
   ]
  },
  {
   "cell_type": "code",
   "execution_count": null,
   "metadata": {},
   "outputs": [],
   "source": []
  },
  {
   "cell_type": "code",
   "execution_count": null,
   "metadata": {},
   "outputs": [],
   "source": [
    "preprocessed_main_test.drop(['source_','amount_spent_per_room_night_scaled'],axis =1,inplace=True)"
   ]
  },
  {
   "cell_type": "code",
   "execution_count": null,
   "metadata": {},
   "outputs": [],
   "source": [
    "y_train = preprocessed_main_train['amount_spent_per_room_night_scaled']\n",
    "x_train = preprocessed_main_train.drop(['amount_spent_per_room_night_scaled','source_'],axis =1)"
   ]
  },
  {
   "cell_type": "code",
   "execution_count": null,
   "metadata": {},
   "outputs": [],
   "source": [
    "from sklearn.model_selection import train_test_split\n",
    "from sklearn.naive_bayes import MultinomialNB,GaussianNB\n",
    "from sklearn.linear_model import LogisticRegression"
   ]
  },
  {
   "cell_type": "code",
   "execution_count": null,
   "metadata": {
    "scrolled": false
   },
   "outputs": [],
   "source": [
    "import lightgbm as lgb\n",
    "all_pred = []\n",
    "# params = {\n",
    "# 'num_leaves': 30,\n",
    "# 'max_bin': 50,\n",
    "# 'min_data_in_leaf': 50,\n",
    "# 'learning_rate': 0.01,\n",
    "# 'min_sum_hessian_in_leaf': 0.000446,\n",
    "# 'bagging_fraction': 0.60,\n",
    "# 'bagging_freq': 15,\n",
    "# 'max_depth': 30,\n",
    "# 'save_binary': True,\n",
    "# 'seed': 31452,\n",
    "# 'feature_fraction_seed': 31415,\n",
    "# 'feature_fraction': 0.51,\n",
    "# 'bagging_seed': 31415,\n",
    "# 'drop_seed': 31415,\n",
    "# 'data_random_seed': 31415,\n",
    "# 'objective': 'regression',\n",
    "# 'boosting_type': 'gbdt',\n",
    "# 'verbose': 1,\n",
    "# 'metric': 'rmse',\n",
    "# 'is_unbalance': False,\n",
    "# #     'categorical_feature': \"name:branch_id\"\n",
    "# # 'scale_pos_weight': len(train_df[\"target\"] == 0) / sum(train_df[\"target\"])\n",
    "# }\n",
    " \n",
    "# X_train, X_test, y_train_internal, y_test_internal = train_test_split(x_train,y_train ,test_size =.15)\n",
    "\n",
    "# d_train = lgb.Dataset(X_train, label=y_train_internal)\n",
    "# clf = lgb.train(params, d_train,30000)\n",
    "#for i in range(1,2):\n",
    "from sklearn.feature_selection import RFE\n",
    "lg =  lgb.LGBMRegressor(n_estimators=2000)\n",
    "X_train, X_test, y_train_internal, y_test_internal = train_test_split(x_train,y_train ,test_size =.15)\n",
    "\n",
    "#rfe = RFE(lg, 30)\n",
    "#fit = rfe.fit(X_train, y_train_internal)\n",
    "\n",
    "\n",
    "lg.fit(X_train, y_train_internal,eval_set=(X_test,y_test_internal),eval_metric='rmse',early_stopping_rounds=100,verbose=0)\n",
    "pred = lg.predict(preprocessed_main_test)\n",
    "# all_pred.append(pred)"
   ]
  },
  {
   "cell_type": "code",
   "execution_count": null,
   "metadata": {},
   "outputs": [],
   "source": [
    "fit.predict()"
   ]
  },
  {
   "cell_type": "code",
   "execution_count": null,
   "metadata": {},
   "outputs": [],
   "source": [
    "pred = lg.predict(preprocessed_main_test)\n",
    "pred"
   ]
  },
  {
   "cell_type": "code",
   "execution_count": null,
   "metadata": {},
   "outputs": [],
   "source": [
    "# import numpy as np\n",
    "# predd = np.array(all_model_pred).mean(axis =0)\n",
    "# len(predd)"
   ]
  },
  {
   "cell_type": "code",
   "execution_count": null,
   "metadata": {},
   "outputs": [],
   "source": [
    "p = (pred)"
   ]
  },
  {
   "cell_type": "code",
   "execution_count": null,
   "metadata": {},
   "outputs": [],
   "source": [
    "from sklearn.metrics import mean_squared_error\n",
    "from math import sqrt\n",
    "pred_orig_test = lg.predict(X_test)\n",
    "rms = sqrt(mean_squared_error(y_test_internal, pred_orig_test))\n",
    "rms"
   ]
  },
  {
   "cell_type": "code",
   "execution_count": null,
   "metadata": {},
   "outputs": [],
   "source": [
    "#pred = regr.predict(preprocessed_main_test)\n",
    "final_res = list(zip(df_test['reservation_id'],pred))"
   ]
  },
  {
   "cell_type": "code",
   "execution_count": null,
   "metadata": {},
   "outputs": [],
   "source": [
    "res_ = pd.DataFrame(final_res,columns=['reservation_id','amount_spent_per_room_night_scaled'])"
   ]
  },
  {
   "cell_type": "code",
   "execution_count": null,
   "metadata": {},
   "outputs": [],
   "source": [
    "res_.to_csv('sub_13_poly_enc.csv',index=False)"
   ]
  },
  {
   "cell_type": "code",
   "execution_count": null,
   "metadata": {},
   "outputs": [],
   "source": [
    "lg.feature_importances_"
   ]
  },
  {
   "cell_type": "code",
   "execution_count": null,
   "metadata": {},
   "outputs": [],
   "source": [
    "import matplotlib.pyplot as plt\n",
    "import seaborn as sns\n",
    "import warnings\n",
    "warnings.simplefilter(action='ignore', category=FutureWarning)\n",
    "%matplotlib inline\n",
    "# sorted(zip(clf.feature_importances_, X.columns), reverse=True)\n",
    "feature_imp = pd.DataFrame(sorted(zip(lg.feature_importances_,x_train.columns)), columns=['Value','Feature'])\n",
    "\n",
    "plt.figure(figsize=(20, 30))\n",
    "sns.barplot(x=\"Value\", y=\"Feature\", data=feature_imp.sort_values(by=\"Value\", ascending=False))\n",
    "plt.title('LightGBM Features (avg over folds)')\n",
    "plt.tight_layout()\n",
    "plt.show()\n",
    "plt.savefig('lgbm_importances-01.png')\n"
   ]
  },
  {
   "cell_type": "code",
   "execution_count": null,
   "metadata": {},
   "outputs": [],
   "source": [
    "set(df_train['memberid'].unique()).intersection(set(df_test['memberid'].unique()))"
   ]
  },
  {
   "cell_type": "code",
   "execution_count": null,
   "metadata": {},
   "outputs": [],
   "source": []
  }
 ],
 "metadata": {
  "kernelspec": {
   "display_name": "Python 3",
   "language": "python",
   "name": "python3"
  },
  "language_info": {
   "codemirror_mode": {
    "name": "ipython",
    "version": 3
   },
   "file_extension": ".py",
   "mimetype": "text/x-python",
   "name": "python",
   "nbconvert_exporter": "python",
   "pygments_lexer": "ipython3",
   "version": "3.6.7"
  }
 },
 "nbformat": 4,
 "nbformat_minor": 2
}
