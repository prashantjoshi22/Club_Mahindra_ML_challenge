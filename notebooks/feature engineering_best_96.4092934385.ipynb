{
 "cells": [
  {
   "cell_type": "code",
   "execution_count": null,
   "metadata": {
    "ExecuteTime": {
     "end_time": "2019-05-04T09:45:05.754084Z",
     "start_time": "2019-05-04T09:45:05.749818Z"
    }
   },
   "outputs": [],
   "source": [
    "\"\"\"\n",
    "TODO:\n",
    "1. add previous n_bookings as a feature\n",
    "2. add number rooms booked previously as average\n",
    "\"\"\""
   ]
  },
  {
   "cell_type": "code",
   "execution_count": null,
   "metadata": {
    "ExecuteTime": {
     "end_time": "2019-05-04T09:28:09.339988Z",
     "start_time": "2019-05-04T09:28:09.336094Z"
    }
   },
   "outputs": [],
   "source": [
    "import pandas as pd\n",
    "import lightgbm\n",
    "import category_encoders as ce\n",
    "from sklearn.preprocessing import CategoricalEncoder,OrdinalEncoder\n",
    "from sklearn.ensemble import RandomForestRegressor\n",
    "from sklearn.preprocessing import StandardScaler\n",
    "from bayes_opt import BayesianOptimization\n",
    "from sklearn.metrics import mean_squared_error\n",
    "from sklearn.model_selection import train_test_split\n",
    "import numpy as np\n",
    "import datetime"
   ]
  },
  {
   "cell_type": "code",
   "execution_count": null,
   "metadata": {
    "ExecuteTime": {
     "end_time": "2019-05-04T08:46:21.991031Z",
     "start_time": "2019-05-04T08:46:17.974665Z"
    }
   },
   "outputs": [],
   "source": [
    "train = pd.read_csv(\"train_5CLrC8b/train.csv\")\n",
    "test = pd.read_csv(\"test.csv\")\n",
    "sample_submission = pd.read_csv(\"sample_submission.csv\")"
   ]
  },
  {
   "cell_type": "code",
   "execution_count": null,
   "metadata": {
    "ExecuteTime": {
     "end_time": "2019-05-04T08:46:35.702725Z",
     "start_time": "2019-05-04T08:46:35.537531Z"
    }
   },
   "outputs": [],
   "source": [
    "concated = pd.concat([train,test],ignore_index=True)"
   ]
  },
  {
   "cell_type": "code",
   "execution_count": null,
   "metadata": {
    "ExecuteTime": {
     "end_time": "2019-05-04T08:50:12.132589Z",
     "start_time": "2019-05-04T08:47:05.159645Z"
    }
   },
   "outputs": [],
   "source": [
    "concated['booking_date'] = pd.to_datetime(concated['booking_date'],dayfirst=True)\n",
    "concated['checkin_date'] = pd.to_datetime(concated['checkin_date'],dayfirst=True)\n",
    "concated['checkout_date'] = pd.to_datetime(concated['checkout_date'],dayfirst=True)"
   ]
  },
  {
   "cell_type": "code",
   "execution_count": null,
   "metadata": {
    "ExecuteTime": {
     "end_time": "2019-05-04T08:50:28.167115Z",
     "start_time": "2019-05-04T08:50:13.164143Z"
    }
   },
   "outputs": [],
   "source": [
    "concated['booking_month'] = concated['booking_date'].apply(lambda x:x.month)\n",
    "concated['booking_year'] = concated['booking_date'].apply(lambda x:x.year)\n",
    "concated['booking_day'] = concated['booking_date'].apply(lambda x:x.day)\n",
    "\n",
    "concated['checkin_month'] = concated['checkin_date'].apply(lambda x:x.month)\n",
    "concated['checkin_year'] = concated['checkin_date'].apply(lambda x:x.year)\n",
    "concated['checkin_day'] = concated['checkin_date'].apply(lambda x:x.day)\n",
    "\n",
    "concated['checkout_month'] = concated['checkout_date'].apply(lambda x:x.month)\n",
    "concated['checkout_year'] = concated['checkout_date'].apply(lambda x:x.year)\n",
    "concated['checkout_day'] = concated['checkout_date'].apply(lambda x:x.day)"
   ]
  },
  {
   "cell_type": "code",
   "execution_count": null,
   "metadata": {
    "ExecuteTime": {
     "end_time": "2019-05-04T09:23:04.390431Z",
     "start_time": "2019-05-04T09:22:59.554059Z"
    }
   },
   "outputs": [],
   "source": [
    "concated['booking_dayofweek'] = concated['booking_date'].apply(lambda x:x.dayofweek)\n",
    "\n",
    "concated['checkin_dayofweek'] = concated['checkin_date'].apply(lambda x:x.dayofweek)\n",
    "\n",
    "concated['checkout_dayofweek'] = concated['checkout_date'].apply(lambda x:x.dayofweek)"
   ]
  },
  {
   "cell_type": "code",
   "execution_count": null,
   "metadata": {
    "ExecuteTime": {
     "end_time": "2019-05-04T08:51:15.926111Z",
     "start_time": "2019-05-04T08:51:14.650671Z"
    }
   },
   "outputs": [],
   "source": [
    "concated['season_holidayed_code_is_na'] = concated.season_holidayed_code.apply(\n",
    "    lambda x: 1 if pd.isna(x) else 0)\n",
    "concated['state_code_residence_is_na'] = concated.state_code_residence.apply(\n",
    "    lambda x: 1 if pd.isna(x) else 0)\n",
    "concated['season_holidayed_code'] = concated.season_holidayed_code.apply(\n",
    "    lambda x: 0 if pd.isna(x) else x)\n",
    "concated['state_code_residence'] = concated.state_code_residence.apply(\n",
    "    lambda x: 0 if pd.isna(x) else x)"
   ]
  },
  {
   "cell_type": "code",
   "execution_count": null,
   "metadata": {
    "ExecuteTime": {
     "end_time": "2019-05-04T09:00:05.574656Z",
     "start_time": "2019-05-04T08:59:39.267877Z"
    }
   },
   "outputs": [],
   "source": [
    "concated['actual_days_booked'] = concated.apply(\n",
    "    lambda x: (x['checkout_date'] - x['checkin_date']).days, axis=1)"
   ]
  },
  {
   "cell_type": "code",
   "execution_count": null,
   "metadata": {
    "ExecuteTime": {
     "end_time": "2019-05-04T09:11:58.692239Z",
     "start_time": "2019-05-04T09:11:43.742527Z"
    }
   },
   "outputs": [],
   "source": [
    "concated['n_rooms_booked'] = concated.apply(\n",
    "    lambda x: x['roomnights'] / x['actual_days_booked'], axis=1)"
   ]
  },
  {
   "cell_type": "code",
   "execution_count": null,
   "metadata": {
    "ExecuteTime": {
     "end_time": "2019-05-04T09:19:00.077022Z",
     "start_time": "2019-05-04T09:18:37.929116Z"
    }
   },
   "outputs": [],
   "source": [
    "concated['person_per_room'] = concated.apply(\n",
    "    lambda x: (x['numberofadults'] + x['numberofchildren']) / x['n_rooms_booked'] if x['n_rooms_booked'] else 0,\n",
    "    axis=1)"
   ]
  },
  {
   "cell_type": "code",
   "execution_count": null,
   "metadata": {
    "ExecuteTime": {
     "end_time": "2019-05-04T09:33:41.614535Z",
     "start_time": "2019-05-04T09:33:41.610741Z"
    }
   },
   "outputs": [],
   "source": [
    "def count_weekend(row):\n",
    "    checkin_date = row['checkin_date']\n",
    "    actual_days_booked = row['actual_days_booked']\n",
    "    stayed_in_weekend = 0\n",
    "    for i in range(actual_days_booked):\n",
    "        new_day = (checkin_date + datetime.timedelta(days=i)).day_name()\n",
    "        if new_day == \"Saturday\" or new_day == \"Friday\" or new_day == \"Sunday\":\n",
    "            stayed_in_weekend += 1\n",
    "    return stayed_in_weekend"
   ]
  },
  {
   "cell_type": "code",
   "execution_count": null,
   "metadata": {
    "ExecuteTime": {
     "end_time": "2019-05-04T09:35:25.578665Z",
     "start_time": "2019-05-04T09:34:48.727262Z"
    }
   },
   "outputs": [],
   "source": [
    "concated['n_weekend_days'] = concated.apply(count_weekend,axis=1)"
   ]
  },
  {
   "cell_type": "code",
   "execution_count": null,
   "metadata": {},
   "outputs": [],
   "source": [
    "concated.drop(['reservation_id','booking_date','checkin_date','checkout_date','memberid'],axis=1,inplace=True)"
   ]
  },
  {
   "cell_type": "code",
   "execution_count": null,
   "metadata": {
    "ExecuteTime": {
     "end_time": "2019-05-04T09:40:07.498722Z",
     "start_time": "2019-05-04T09:40:06.610455Z"
    }
   },
   "outputs": [],
   "source": [
    "\n",
    "l=['member_age_buckets','cluster_code','reservationstatusid_code','resort_id']\n",
    "\n",
    "encoder = ce.polynomial.PolynomialEncoder(l)\n",
    "concated = encoder.fit_transform(concated)\n",
    "\n",
    "#encoder = OrdinalEncoder(dtype=np.int32,)\n",
    "#concated[['memberh_age_buckets','cluster_code','reservationstatusid_code','resort_id']] = encoder.fit_transform(\n",
    "#    concated[['member_age_buckets','cluster_code','reservationstatusid_code','resort_id']]\n",
    "#)"
   ]
  },
  {
   "cell_type": "code",
   "execution_count": null,
   "metadata": {
    "ExecuteTime": {
     "end_time": "2019-05-04T09:43:53.805702Z",
     "start_time": "2019-05-04T09:43:28.833567Z"
    }
   },
   "outputs": [],
   "source": [
    "# concated.to_csv(\"./concat_train_test_feat_engg.csv\",index=False)"
   ]
  },
  {
   "cell_type": "code",
   "execution_count": null,
   "metadata": {
    "ExecuteTime": {
     "end_time": "2019-05-04T09:45:13.985065Z",
     "start_time": "2019-05-04T09:45:13.888930Z"
    }
   },
   "outputs": [],
   "source": [
    "concated.drop(['intercept'],axis=1,inplace=True)\n",
    "concated.head()"
   ]
  },
  {
   "cell_type": "code",
   "execution_count": null,
   "metadata": {
    "ExecuteTime": {
     "end_time": "2019-05-04T09:46:36.923810Z",
     "start_time": "2019-05-04T09:46:36.893454Z"
    }
   },
   "outputs": [],
   "source": [
    "train = concated[:len(train)]\n",
    "test = concated[-len(test):]"
   ]
  },
  {
   "cell_type": "code",
   "execution_count": null,
   "metadata": {
    "ExecuteTime": {
     "end_time": "2019-05-04T09:52:17.737555Z",
     "start_time": "2019-05-04T09:50:52.813715Z"
    }
   },
   "outputs": [],
   "source": [
    "all_predictions = []\n",
    "all_mse = []\n",
    "X = train.drop(['amount_spent_per_room_night_scaled'], axis=1)\n",
    "Y = train['amount_spent_per_room_night_scaled']\n",
    "for i in range(10):\n",
    "    print(i)\n",
    "    trainX, testX, trainY, testY = train_test_split(X, Y,test_size=0.15)\n",
    "    lgb_model = lightgbm.LGBMRegressor(n_estimators=1000)\n",
    "    lgb_model.fit(\n",
    "        trainX,\n",
    "        trainY,\n",
    "        eval_set=(testX, testY),\n",
    "        eval_metric='rmse',\n",
    "        early_stopping_rounds=100,verbose = 0 \n",
    "    )\n",
    "    predictions = lgb_model.predict(test.drop(['amount_spent_per_room_night_scaled'], axis=1))\n",
    "    test_pred = lgb_model.predict(testX)\n",
    "    from sklearn.metrics import mean_squared_error\n",
    "    from math import sqrt\n",
    "    all_mse.append(sqrt(mean_squared_error(testY, test_pred)))\n",
    "    all_predictions.append(predictions)"
   ]
  },
  {
   "cell_type": "code",
   "execution_count": null,
   "metadata": {
    "ExecuteTime": {
     "end_time": "2019-05-04T09:53:59.750371Z",
     "start_time": "2019-05-04T09:53:59.732671Z"
    }
   },
   "outputs": [],
   "source": [
    "#internal_pred = np.stack(internal_test_pred,axis=1).mean(axis=1)\n",
    "final_predictions = np.stack(all_predictions,axis=1).mean(axis=1)"
   ]
  },
  {
   "cell_type": "code",
   "execution_count": null,
   "metadata": {
    "ExecuteTime": {
     "end_time": "2019-05-04T09:54:38.376050Z",
     "start_time": "2019-05-04T09:54:37.779874Z"
    }
   },
   "outputs": [],
   "source": [
    "sample_submission['amount_spent_per_room_night_scaled'] = final_predictions\n",
    "sample_submission.to_csv(\n",
    "    \"poly_enc_1.csv\",\n",
    "    index=False)"
   ]
  },
  {
   "cell_type": "code",
   "execution_count": null,
   "metadata": {},
   "outputs": [],
   "source": [
    "from sklearn.metrics import mean_squared_error\n",
    "from math import sqrt\n",
    "sqrt(mean_squared_error(y_test_internal, pred_orig_test))\n"
   ]
  },
  {
   "cell_type": "code",
   "execution_count": null,
   "metadata": {},
   "outputs": [],
   "source": [
    "np.array(all_mse).mean(axis=0)"
   ]
  },
  {
   "cell_type": "code",
   "execution_count": null,
   "metadata": {},
   "outputs": [],
   "source": [
    "all_mse"
   ]
  },
  {
   "cell_type": "code",
   "execution_count": null,
   "metadata": {},
   "outputs": [],
   "source": []
  }
 ],
 "metadata": {
  "kernelspec": {
   "display_name": "Python 3",
   "language": "python",
   "name": "python3"
  },
  "language_info": {
   "codemirror_mode": {
    "name": "ipython",
    "version": 3
   },
   "file_extension": ".py",
   "mimetype": "text/x-python",
   "name": "python",
   "nbconvert_exporter": "python",
   "pygments_lexer": "ipython3",
   "version": "3.6.7"
  },
  "varInspector": {
   "cols": {
    "lenName": 16,
    "lenType": 16,
    "lenVar": 40
   },
   "kernels_config": {
    "python": {
     "delete_cmd_postfix": "",
     "delete_cmd_prefix": "del ",
     "library": "var_list.py",
     "varRefreshCmd": "print(var_dic_list())"
    },
    "r": {
     "delete_cmd_postfix": ") ",
     "delete_cmd_prefix": "rm(",
     "library": "var_list.r",
     "varRefreshCmd": "cat(var_dic_list()) "
    }
   },
   "types_to_exclude": [
    "module",
    "function",
    "builtin_function_or_method",
    "instance",
    "_Feature"
   ],
   "window_display": false
  }
 },
 "nbformat": 4,
 "nbformat_minor": 2
}
